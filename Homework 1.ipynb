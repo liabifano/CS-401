{
 "cells": [
  {
   "cell_type": "markdown",
   "metadata": {},
   "source": [
    "# Table of Contents\n",
    " <p><div class=\"lev1\"><a href=\"#Task-1.-Compiling-Ebola-Data\"><span class=\"toc-item-num\">Task 1.&nbsp;&nbsp;</span>Compiling Ebola Data</a></div>\n",
    " <div class=\"lev1\"><a href=\"#Task-2.-RNA-Sequences\"><span class=\"toc-item-num\">Task 2.&nbsp;&nbsp;</span>RNA Sequences</a></div>\n",
    " <div class=\"lev1\"><a href=\"#Task-3.-Class-War-in-Titanic\"><span class=\"toc-item-num\">Task 3.&nbsp;&nbsp;</span>Class War in Titanic</a></div></p>"
   ]
  },
  {
   "cell_type": "markdown",
   "metadata": {},
   "source": [
    "Requirements to run this notebook:\n",
    "\n",
    "`python>=3.5.1, pandas==0.20.3, numpy==1.11.0, seaborn==0.8, matplotlib==2.0.2, xlrd==1.1.0`"
   ]
  },
  {
   "cell_type": "code",
   "execution_count": 1,
   "metadata": {
    "collapsed": true
   },
   "outputs": [],
   "source": [
    "import os\n",
    "import pandas as pd\n",
    "import numpy as np\n",
    "from toolz import partition_all\n",
    "\n",
    "import matplotlib.pyplot as plt\n",
    "from matplotlib import cm\n",
    "%matplotlib inline  \n",
    "import seaborn as sns\n",
    "from IPython.display import display, HTML\n",
    "sns.set(font_scale=1.5)"
   ]
  },
  {
   "cell_type": "code",
   "execution_count": 2,
   "metadata": {
    "collapsed": true
   },
   "outputs": [],
   "source": [
    "DATA_FOLDER = '../ADA2017-Tutorials/02 - Intro to Pandas/Data'\n",
    "EBOLA_FOLDER = os.path.join(DATA_FOLDER, 'ebola')"
   ]
  },
  {
   "cell_type": "markdown",
   "metadata": {},
   "source": [
    "## Task 1. Compiling Ebola Data\n",
    "\n",
    "The `DATA_FOLDER/ebola` folder contains summarized reports of Ebola cases from three countries (Guinea, Liberia and Sierra Leone) during the recent outbreak of the disease in West Africa. For each country, there are daily reports that contain various information about the outbreak in several cities in each country.\n",
    "\n",
    "Use pandas to import these data files into a single `Dataframe`.\n",
    "Using this `DataFrame`, calculate for *each country*, the *daily average* per year of *new cases* and *deaths*.\n",
    "Make sure you handle all the different expressions for *new cases* and *deaths* that are used in the reports."
   ]
  },
  {
   "cell_type": "markdown",
   "metadata": {},
   "source": [
    "## Solution Task 1\n",
    "\n",
    "### Assumptions\n",
    "- The dicionary `schema_and_assumptions` has for each country:\n",
    " 1. `col_date` is the name of the column containing the date\n",
    " 2. `col_desc` the name of the columns containing the description\n",
    " 3. `desc_new_cases` contains the strings that will be considered as new_cases\n",
    " 4. `desc_death` contains the strings that will be considered as death\n",
    " \n",
    " This dicionary will be used to filter each file in the function `get_new_and_death`\n",
    "\n",
    "\n",
    "- The date will be extracted from the file's name because they don't have a standard inside the files, so it would be painful and risky and map all formats\n",
    "\n",
    "- Even for the same country, there are different columns for the files, so the first step is look for all columns available in all files and then for each file it will be selected just the columns that is available (done in function `read_csv_group_concat`)\n",
    "\n",
    "- The function `standardize_date_in_file_name` will standardize the dates\n",
    "\n",
    "- Some columns are not read as numeric type for `sl_data` files, this causes high numbers that looks like outliers but it is just an error when the files are loaded\n",
    "\n",
    "- There missing observations for some dates and countries (specially for Guinea). The missing will not be considered or treated, it means, the mean will be calculated without those observations. This is better than fill with 0's or doing some kind of educated guess.\n",
    "\n",
    "### Conclusions and Final Comments\n",
    "- Accuracy for `guinea_data` is lower compared with other groups because it just have 22 observed days which is 5x less than the other groups\n",
    "\n",
    "\n",
    "- For `guinea_data` and `sl_data` the number of deaths is much higher than `new_cases` and this might be because:\n",
    "  1. We are not filtering the rights descriptions in the `schema_and_assumptions` for `desc_new_cases` and `desc_death`. This can be fixed with a proper metadada, which is hard to have (rs).\n",
    "  2. It is easier collect deaths than new_cases, so most of the registred cases might be not recorded\n",
    "  3. The period of time that we have observations is biased, might be the end of an outbreak so the number of deaths will be higher than the number os new cases"
   ]
  },
  {
   "cell_type": "code",
   "execution_count": 3,
   "metadata": {
    "collapsed": true
   },
   "outputs": [],
   "source": [
    "schema_and_assumptions = {'liberia_data': {'col_date': 'Date',\n",
    "                                           'col_desc': 'Variable',\n",
    "                                           'desc_new_cases': ['New case/s (confirmed)',\n",
    "                                                              'New Case/s (Probable)',\n",
    "                                                              'New Case/s (Suspected)'],\n",
    "                                           'desc_death': ['Total death/s in confirmed cases',\n",
    "                                                          'Total death/s in confirmed cases',\n",
    "                                                          'Total death/s in suspected cases']\n",
    "                                           },\n",
    "\n",
    "                          'sl_data': {'col_date': 'date',\n",
    "                                      'col_desc': 'variable',\n",
    "                                      'desc_new_cases': ['new_confirmed',\n",
    "                                                         'new_probable',\n",
    "                                                         'new_suspected'],\n",
    "                                      'desc_death': ['death_confirmed',\n",
    "                                                     'death_probable',\n",
    "                                                     'death_suspected']\n",
    "                                      },\n",
    "\n",
    "                          'guinea_data': {'col_date': 'Date',\n",
    "                                          'col_desc': 'Description',\n",
    "                                          'desc_new_cases': ['New cases of confirmed',\n",
    "                                                             'New cases of probables',\n",
    "                                                             'New cases of suspects'],\n",
    "                                          'desc_death': ['Total deaths of confirmed',\n",
    "                                                         'Total deaths of probables',\n",
    "                                                         'Total deaths of suspects']\n",
    "                                          }\n",
    "                          }"
   ]
  },
  {
   "cell_type": "code",
   "execution_count": 4,
   "metadata": {
    "collapsed": true
   },
   "outputs": [],
   "source": [
    "def standardize_date_in_file_name(messed_date):\n",
    "    '''\n",
    "    Receives something like 2014-12-09-v920 and returns 2014-12-09\n",
    "    Hacked and dirty\n",
    "    '''\n",
    "    return messed_date[0:10]"
   ]
  },
  {
   "cell_type": "code",
   "execution_count": 5,
   "metadata": {
    "collapsed": true
   },
   "outputs": [],
   "source": [
    "def get_new_and_death(df, \n",
    "                      country,\n",
    "                      date, \n",
    "                      col_desc, \n",
    "                      cols_to_sum, \n",
    "                      desc_new_cases, \n",
    "                      desc_death):\n",
    "    '''\n",
    "    1. Drop columns that are not in `{date, col_desc, cols_to_sum}`\n",
    "    2. Drop lines that are not in `{desc_new_cases, desc_death}`\n",
    "    3. Convert `cols_to_sum` in numeric (someone them are not, them it causes fake-outliers)\n",
    "    4. For each line it will sum all the columns in cols_to_sum\n",
    "    5. Aggregate sums in the `{new_cases, death}`\n",
    "    6. Standardize columns names\n",
    "    \n",
    "    :returns a dataframe with 1 row and the following columns `{date, country, type {deaths, new_cases}, total}`\n",
    "    '''\n",
    "    \n",
    "    df = df[[col_desc] + cols_to_sum]\n",
    "    df = df[df[col_desc].apply(lambda x: x in desc_new_cases + desc_death)]\n",
    "    df[cols_to_sum] = df[cols_to_sum].fillna(0).apply(pd.to_numeric)\n",
    "\n",
    "    df['total'] = df[cols_to_sum].sum(axis=1)\n",
    "    df['type'] = df[col_desc].apply(lambda x: 'new_cases' if x in desc_new_cases else 'deaths')\n",
    "    \n",
    "    df['date'] = date\n",
    "    agg_df = (df\n",
    "              .groupby(['date', 'type'])\n",
    "              .sum()[['total']].reset_index())\n",
    "    agg_df['country'] = country\n",
    "    \n",
    "    return agg_df[['date', 'country', 'type', 'total']]"
   ]
  },
  {
   "cell_type": "code",
   "execution_count": 6,
   "metadata": {
    "collapsed": true
   },
   "outputs": [],
   "source": [
    "def read_csv_group_concat(root_path, schemas):\n",
    "    '''\n",
    "    1. For each country it scan all columns of all files\n",
    "    2. Colect all possible columns and filter that ones that don't make sense like: Unamed, Totals, `col_date` and `col_desc`\n",
    "    3. For each file, it aggregates using the function `get_new_and_death`\n",
    "    4. Concat all the results\n",
    "    \n",
    "    :returns a dataframe with the following columns `{date, country, type {deaths, new_cases}, total}`\n",
    "    '''\n",
    "    \n",
    "    agg_counts = pd.DataFrame()\n",
    "\n",
    "    for country in schemas:\n",
    "        schema = schemas[country]\n",
    "        \n",
    "        country_path = os.path.join(root_path, country)\n",
    "        all_csvs = filter(lambda x: x.endswith('csv'), os.listdir(country_path))\n",
    "        all_paths = list(map(lambda x: os.path.join(country_path, x), all_csvs))\n",
    "        \n",
    "        scan_all_cols = map(lambda p: list(pd.read_csv(p, nrows=0)), all_paths)\n",
    "        all_possible_cols = list(filter(lambda x: not x.startswith('Unnamed') and \n",
    "                                                  not x.startswith('Totals') and\n",
    "                                                  x!=schema['col_date'] and\n",
    "                                                  x!=schema['col_desc'],\n",
    "                                        list(set(sum(scan_all_cols, [])))))\n",
    "    \n",
    "        for file_path in all_paths:\n",
    "            df = pd.read_csv(file_path)\n",
    "            cols_to_sum = list(set(all_possible_cols).intersection(set(df.columns)))\n",
    "            date = standardize_date_in_file_name(os.path.split(file_path)[-1])\n",
    "            \n",
    "            agg_df = get_new_and_death(df,\n",
    "                                       country,\n",
    "                                       date,\n",
    "                                       schema['col_desc'],\n",
    "                                       cols_to_sum,\n",
    "                                       schema['desc_new_cases'],\n",
    "                                       schema['desc_death'])\n",
    "                \n",
    "            agg_counts = pd.concat([agg_counts, agg_df], axis=0)\n",
    "                \n",
    "    agg_counts.date = pd.to_datetime(agg_counts.date)\n",
    "    \n",
    "    return agg_counts"
   ]
  },
  {
   "cell_type": "code",
   "execution_count": 7,
   "metadata": {
    "collapsed": true
   },
   "outputs": [],
   "source": [
    "agg_by_date = read_csv_group_concat(EBOLA_FOLDER, schema_and_assumptions)\n",
    "mean_by_year = agg_by_date.groupby(['country', 'type']).agg(['size', 'mean']).unstack(level=-1)"
   ]
  },
  {
   "cell_type": "code",
   "execution_count": 8,
   "metadata": {},
   "outputs": [
    {
     "name": "stdout",
     "output_type": "stream",
     "text": [
      "Daily average for the observations between 2014-06-16 and 2014-12-13 \n",
      "\n"
     ]
    },
    {
     "data": {
      "text/html": [
       "<table border=\"1\" class=\"dataframe\">\n",
       "  <thead>\n",
       "    <tr>\n",
       "      <th></th>\n",
       "      <th colspan=\"2\" halign=\"left\">size</th>\n",
       "      <th colspan=\"2\" halign=\"left\">mean</th>\n",
       "    </tr>\n",
       "    <tr>\n",
       "      <th>type</th>\n",
       "      <th>deaths</th>\n",
       "      <th>new_cases</th>\n",
       "      <th>deaths</th>\n",
       "      <th>new_cases</th>\n",
       "    </tr>\n",
       "    <tr>\n",
       "      <th>country</th>\n",
       "      <th></th>\n",
       "      <th></th>\n",
       "      <th></th>\n",
       "      <th></th>\n",
       "    </tr>\n",
       "  </thead>\n",
       "  <tbody>\n",
       "    <tr>\n",
       "      <th>guinea_data</th>\n",
       "      <td>22</td>\n",
       "      <td>22</td>\n",
       "      <td>570.363636</td>\n",
       "      <td>21.454545</td>\n",
       "    </tr>\n",
       "    <tr>\n",
       "      <th>liberia_data</th>\n",
       "      <td>100</td>\n",
       "      <td>100</td>\n",
       "      <td>716.750000</td>\n",
       "      <td>995.280000</td>\n",
       "    </tr>\n",
       "    <tr>\n",
       "      <th>sl_data</th>\n",
       "      <td>103</td>\n",
       "      <td>103</td>\n",
       "      <td>1735.864078</td>\n",
       "      <td>107.747573</td>\n",
       "    </tr>\n",
       "  </tbody>\n",
       "</table>"
      ],
      "text/plain": [
       "<IPython.core.display.HTML object>"
      ]
     },
     "execution_count": 8,
     "metadata": {},
     "output_type": "execute_result"
    }
   ],
   "source": [
    "print('Daily average for the observations between {} and {} \\n'.format(min(agg_by_date['date']).date(), max(agg_by_date['date']).date()))\n",
    "HTML(mean_by_year['total'].to_html())"
   ]
  },
  {
   "cell_type": "markdown",
   "metadata": {},
   "source": [
    "## Task 2. RNA Sequences\n",
    "\n",
    "In the `DATA_FOLDER/microbiome` subdirectory, there are 9 spreadsheets of microbiome data that was acquired from high-throughput RNA sequencing procedures, along with a 10<sup>th</sup> file that describes the content of each. \n",
    "\n",
    "Use pandas to import the first 9 spreadsheets into a single `DataFrame`.\n",
    "Then, add the metadata information from the 10<sup>th</sup> spreadsheet as columns in the combined `DataFrame`.\n",
    "Make sure that the final `DataFrame` has a unique index and all the `NaN` values have been replaced by the tag `unknown`."
   ]
  },
  {
   "cell_type": "code",
   "execution_count": 9,
   "metadata": {
    "collapsed": true
   },
   "outputs": [],
   "source": [
    "# Write your answer here"
   ]
  },
  {
   "cell_type": "markdown",
   "metadata": {},
   "source": [
    "## Task 3. Class War in Titanic\n",
    "\n",
    "Use pandas to import the data file `Data/titanic.xls`. It contains data on all the passengers that travelled on the Titanic."
   ]
  },
  {
   "cell_type": "code",
   "execution_count": 10,
   "metadata": {},
   "outputs": [
    {
     "data": {
      "text/html": [
       "<hr><h2>Data frame:titanic3</h2>1309 observations and 14 variables, maximum # NAs:1188<hr>\n",
       "<TABLE BORDER>\n",
       "<tr><td>Name</td><td>Labels</td><td>Units</td><td>Levels</td><td>Storage</td><td>NAs</td></tr>\n",
       "<tr><td>pclass</td><td></td><td></td><td><a href=\"#pclass\"><div align=right>  3</div></a></td><td>integer</td><td><div align=right>   0</div></td></tr>\n",
       "<tr><td>survived</td><td>Survived</td><td></td><td><div align=right></div></td><td>double</td><td><div align=right>   0</div></td></tr>\n",
       "<tr><td>name</td><td>Name</td><td></td><td><div align=right></div></td><td>character</td><td><div align=right>   0</div></td></tr>\n",
       "<tr><td>sex</td><td></td><td></td><td><a href=\"#sex\"><div align=right>  2</div></a></td><td>integer</td><td><div align=right>   0</div></td></tr>\n",
       "<tr><td>age</td><td>Age</td><td>Year</td><td><div align=right></div></td><td>double</td><td><div align=right> 263</div></td></tr>\n",
       "<tr><td>sibsp</td><td>Number of Siblings/Spouses Aboard</td><td></td><td><div align=right></div></td><td>double</td><td><div align=right>   0</div></td></tr>\n",
       "<tr><td>parch</td><td>Number of Parents/Children Aboard</td><td></td><td><div align=right></div></td><td>double</td><td><div align=right>   0</div></td></tr>\n",
       "<tr><td>ticket</td><td>Ticket Number</td><td></td><td><div align=right></div></td><td>character</td><td><div align=right>   0</div></td></tr>\n",
       "<tr><td>fare</td><td>Passenger Fare</td><td>British Pound (\\243)</td><td><div align=right></div></td><td>double</td><td><div align=right>   1</div></td></tr>\n",
       "<tr><td>cabin</td><td></td><td></td><td><a href=\"#cabin\"><div align=right>187</div></a></td><td>integer</td><td><div align=right>   0</div></td></tr>\n",
       "<tr><td>embarked</td><td></td><td></td><td><a href=\"#embarked\"><div align=right>  3</div></a></td><td>integer</td><td><div align=right>   2</div></td></tr>\n",
       "<tr><td>boat</td><td></td><td></td><td><a href=\"#boat\"><div align=right> 28</div></a></td><td>integer</td><td><div align=right>   0</div></td></tr>\n",
       "<tr><td>body</td><td>Body Identification Number</td><td></td><td><div align=right></div></td><td>double</td><td><div align=right>1188</div></td></tr>\n",
       "<tr><td>home.dest</td><td>Home/Destination</td><td></td><td><div align=right></div></td><td>character</td><td><div align=right>   0</div></td></tr>\n",
       "</TABLE>\n",
       "<hr>\n",
       "<TABLE BORDER>\n",
       "<tr><td>Variable</td><td>Levels</td></tr>\n",
       "<tr><td><a name=\"pclass\">pclass</a></td><td>1st</td></tr>\n",
       "<tr><td></td><td>2nd</td></tr>\n",
       "<tr><td></td><td>3rd</td></tr>\n",
       "<tr><td><a name=\"sex\">sex</a></td><td>female</td></tr>\n",
       "<tr><td></td><td>male</td></tr>\n",
       "<tr><td><a name=\"cabin\">cabin</a></td><td></td></tr>\n",
       "<tr><td></td><td>A10</td></tr>\n",
       "<tr><td></td><td>A11</td></tr>\n",
       "<tr><td></td><td>A14</td></tr>\n",
       "<tr><td></td><td>A16</td></tr>\n",
       "<tr><td></td><td>A18</td></tr>\n",
       "<tr><td></td><td>A19</td></tr>\n",
       "<tr><td></td><td>A20</td></tr>\n",
       "<tr><td></td><td>A21</td></tr>\n",
       "<tr><td></td><td>A23</td></tr>\n",
       "<tr><td></td><td>A24</td></tr>\n",
       "<tr><td></td><td>A26</td></tr>\n",
       "<tr><td></td><td>A29</td></tr>\n",
       "<tr><td></td><td>A31</td></tr>\n",
       "<tr><td></td><td>A32</td></tr>\n",
       "<tr><td></td><td>A34</td></tr>\n",
       "<tr><td></td><td>A36</td></tr>\n",
       "<tr><td></td><td>A5</td></tr>\n",
       "<tr><td></td><td>A6</td></tr>\n",
       "<tr><td></td><td>A7</td></tr>\n",
       "<tr><td></td><td>A9</td></tr>\n",
       "<tr><td></td><td>B10</td></tr>\n",
       "<tr><td></td><td>B101</td></tr>\n",
       "<tr><td></td><td>B102</td></tr>\n",
       "<tr><td></td><td>B11</td></tr>\n",
       "<tr><td></td><td>B18</td></tr>\n",
       "<tr><td></td><td>B19</td></tr>\n",
       "<tr><td></td><td>B20</td></tr>\n",
       "<tr><td></td><td>B22</td></tr>\n",
       "<tr><td></td><td>B24</td></tr>\n",
       "<tr><td></td><td>B26</td></tr>\n",
       "<tr><td></td><td>B28</td></tr>\n",
       "<tr><td></td><td>B3</td></tr>\n",
       "<tr><td></td><td>B30</td></tr>\n",
       "<tr><td></td><td>B35</td></tr>\n",
       "<tr><td></td><td>B36</td></tr>\n",
       "<tr><td></td><td>B37</td></tr>\n",
       "<tr><td></td><td>B38</td></tr>\n",
       "<tr><td></td><td>B39</td></tr>\n",
       "<tr><td></td><td>B4</td></tr>\n",
       "<tr><td></td><td>B41</td></tr>\n",
       "<tr><td></td><td>B42</td></tr>\n",
       "<tr><td></td><td>B45</td></tr>\n",
       "<tr><td></td><td>B49</td></tr>\n",
       "<tr><td></td><td>B5</td></tr>\n",
       "<tr><td></td><td>B50</td></tr>\n",
       "<tr><td></td><td>B51 B53 B55</td></tr>\n",
       "<tr><td></td><td>B52 B54 B56</td></tr>\n",
       "<tr><td></td><td>B57 B59 B63 B66</td></tr>\n",
       "<tr><td></td><td>B58 B60</td></tr>\n",
       "<tr><td></td><td>B61</td></tr>\n",
       "<tr><td></td><td>B69</td></tr>\n",
       "<tr><td></td><td>B71</td></tr>\n",
       "<tr><td></td><td>B73</td></tr>\n",
       "<tr><td></td><td>B77</td></tr>\n",
       "<tr><td></td><td>B78</td></tr>\n",
       "<tr><td></td><td>B79</td></tr>\n",
       "<tr><td></td><td>B80</td></tr>\n",
       "<tr><td></td><td>B82 B84</td></tr>\n",
       "<tr><td></td><td>B86</td></tr>\n",
       "<tr><td></td><td>B94</td></tr>\n",
       "<tr><td></td><td>B96 B98</td></tr>\n",
       "<tr><td></td><td>C101</td></tr>\n",
       "<tr><td></td><td>C103</td></tr>\n",
       "<tr><td></td><td>C104</td></tr>\n",
       "<tr><td></td><td>C105</td></tr>\n",
       "<tr><td></td><td>C106</td></tr>\n",
       "<tr><td></td><td>C110</td></tr>\n",
       "<tr><td></td><td>C111</td></tr>\n",
       "<tr><td></td><td>C116</td></tr>\n",
       "<tr><td></td><td>C118</td></tr>\n",
       "<tr><td></td><td>C123</td></tr>\n",
       "<tr><td></td><td>C124</td></tr>\n",
       "<tr><td></td><td>C125</td></tr>\n",
       "<tr><td></td><td>C126</td></tr>\n",
       "<tr><td></td><td>C128</td></tr>\n",
       "<tr><td></td><td>C130</td></tr>\n",
       "<tr><td></td><td>C132</td></tr>\n",
       "<tr><td></td><td>C148</td></tr>\n",
       "<tr><td></td><td>C2</td></tr>\n",
       "<tr><td></td><td>C22 C26</td></tr>\n",
       "<tr><td></td><td>C23 C25 C27</td></tr>\n",
       "<tr><td></td><td>C28</td></tr>\n",
       "<tr><td></td><td>C30</td></tr>\n",
       "<tr><td></td><td>C31</td></tr>\n",
       "<tr><td></td><td>C32</td></tr>\n",
       "<tr><td></td><td>C39</td></tr>\n",
       "<tr><td></td><td>C45</td></tr>\n",
       "<tr><td></td><td>C46</td></tr>\n",
       "<tr><td></td><td>C47</td></tr>\n",
       "<tr><td></td><td>C49</td></tr>\n",
       "<tr><td></td><td>C50</td></tr>\n",
       "<tr><td></td><td>C51</td></tr>\n",
       "<tr><td></td><td>C52</td></tr>\n",
       "<tr><td></td><td>C53</td></tr>\n",
       "<tr><td></td><td>C54</td></tr>\n",
       "<tr><td></td><td>C55 C57</td></tr>\n",
       "<tr><td></td><td>C6</td></tr>\n",
       "<tr><td></td><td>C62 C64</td></tr>\n",
       "<tr><td></td><td>C65</td></tr>\n",
       "<tr><td></td><td>C68</td></tr>\n",
       "<tr><td></td><td>C7</td></tr>\n",
       "<tr><td></td><td>C70</td></tr>\n",
       "<tr><td></td><td>C78</td></tr>\n",
       "<tr><td></td><td>C80</td></tr>\n",
       "<tr><td></td><td>C82</td></tr>\n",
       "<tr><td></td><td>C83</td></tr>\n",
       "<tr><td></td><td>C85</td></tr>\n",
       "<tr><td></td><td>C86</td></tr>\n",
       "<tr><td></td><td>C87</td></tr>\n",
       "<tr><td></td><td>C89</td></tr>\n",
       "<tr><td></td><td>C90</td></tr>\n",
       "<tr><td></td><td>C91</td></tr>\n",
       "<tr><td></td><td>C92</td></tr>\n",
       "<tr><td></td><td>C93</td></tr>\n",
       "<tr><td></td><td>C95</td></tr>\n",
       "<tr><td></td><td>C97</td></tr>\n",
       "<tr><td></td><td>C99</td></tr>\n",
       "<tr><td></td><td>D</td></tr>\n",
       "<tr><td></td><td>D10 D12</td></tr>\n",
       "<tr><td></td><td>D11</td></tr>\n",
       "<tr><td></td><td>D15</td></tr>\n",
       "<tr><td></td><td>D17</td></tr>\n",
       "<tr><td></td><td>D19</td></tr>\n",
       "<tr><td></td><td>D20</td></tr>\n",
       "<tr><td></td><td>D21</td></tr>\n",
       "<tr><td></td><td>D22</td></tr>\n",
       "<tr><td></td><td>D26</td></tr>\n",
       "<tr><td></td><td>D28</td></tr>\n",
       "<tr><td></td><td>D30</td></tr>\n",
       "<tr><td></td><td>D33</td></tr>\n",
       "<tr><td></td><td>D34</td></tr>\n",
       "<tr><td></td><td>D35</td></tr>\n",
       "<tr><td></td><td>D36</td></tr>\n",
       "<tr><td></td><td>D37</td></tr>\n",
       "<tr><td></td><td>D38</td></tr>\n",
       "<tr><td></td><td>D40</td></tr>\n",
       "<tr><td></td><td>D43</td></tr>\n",
       "<tr><td></td><td>D45</td></tr>\n",
       "<tr><td></td><td>D46</td></tr>\n",
       "<tr><td></td><td>D47</td></tr>\n",
       "<tr><td></td><td>D48</td></tr>\n",
       "<tr><td></td><td>D49</td></tr>\n",
       "<tr><td></td><td>D50</td></tr>\n",
       "<tr><td></td><td>D56</td></tr>\n",
       "<tr><td></td><td>D6</td></tr>\n",
       "<tr><td></td><td>D7</td></tr>\n",
       "<tr><td></td><td>D9</td></tr>\n",
       "<tr><td></td><td>E10</td></tr>\n",
       "<tr><td></td><td>E101</td></tr>\n",
       "<tr><td></td><td>E12</td></tr>\n",
       "<tr><td></td><td>E121</td></tr>\n",
       "<tr><td></td><td>E17</td></tr>\n",
       "<tr><td></td><td>E24</td></tr>\n",
       "<tr><td></td><td>E25</td></tr>\n",
       "<tr><td></td><td>E31</td></tr>\n",
       "<tr><td></td><td>E33</td></tr>\n",
       "<tr><td></td><td>E34</td></tr>\n",
       "<tr><td></td><td>E36</td></tr>\n",
       "<tr><td></td><td>E38</td></tr>\n",
       "<tr><td></td><td>E39 E41</td></tr>\n",
       "<tr><td></td><td>E40</td></tr>\n",
       "<tr><td></td><td>E44</td></tr>\n",
       "<tr><td></td><td>E45</td></tr>\n",
       "<tr><td></td><td>E46</td></tr>\n",
       "<tr><td></td><td>E49</td></tr>\n",
       "<tr><td></td><td>E50</td></tr>\n",
       "<tr><td></td><td>E52</td></tr>\n",
       "<tr><td></td><td>E58</td></tr>\n",
       "<tr><td></td><td>E60</td></tr>\n",
       "<tr><td></td><td>E63</td></tr>\n",
       "<tr><td></td><td>E67</td></tr>\n",
       "<tr><td></td><td>E68</td></tr>\n",
       "<tr><td></td><td>E77</td></tr>\n",
       "<tr><td></td><td>E8</td></tr>\n",
       "<tr><td></td><td>F</td></tr>\n",
       "<tr><td></td><td>F E46</td></tr>\n",
       "<tr><td></td><td>F E57</td></tr>\n",
       "<tr><td></td><td>F E69</td></tr>\n",
       "<tr><td></td><td>F G63</td></tr>\n",
       "<tr><td></td><td>F G73</td></tr>\n",
       "<tr><td></td><td>F2</td></tr>\n",
       "<tr><td></td><td>F33</td></tr>\n",
       "<tr><td></td><td>F38</td></tr>\n",
       "<tr><td></td><td>F4</td></tr>\n",
       "<tr><td></td><td>G6</td></tr>\n",
       "<tr><td></td><td>T</td></tr>\n",
       "<tr><td><a name=\"embarked\">embarked</a></td><td>Cherbourg</td></tr>\n",
       "<tr><td></td><td>Queenstown</td></tr>\n",
       "<tr><td></td><td>Southampton</td></tr>\n",
       "<tr><td><a name=\"boat\">boat</a></td><td></td></tr>\n",
       "<tr><td></td><td>1</td></tr>\n",
       "<tr><td></td><td>10</td></tr>\n",
       "<tr><td></td><td>11</td></tr>\n",
       "<tr><td></td><td>12</td></tr>\n",
       "<tr><td></td><td>13</td></tr>\n",
       "<tr><td></td><td>13 15</td></tr>\n",
       "<tr><td></td><td>13 15 B</td></tr>\n",
       "<tr><td></td><td>14</td></tr>\n",
       "<tr><td></td><td>15</td></tr>\n",
       "<tr><td></td><td>15 16</td></tr>\n",
       "<tr><td></td><td>16</td></tr>\n",
       "<tr><td></td><td>2</td></tr>\n",
       "<tr><td></td><td>3</td></tr>\n",
       "<tr><td></td><td>4</td></tr>\n",
       "<tr><td></td><td>5</td></tr>\n",
       "<tr><td></td><td>5 7</td></tr>\n",
       "<tr><td></td><td>5 9</td></tr>\n",
       "<tr><td></td><td>6</td></tr>\n",
       "<tr><td></td><td>7</td></tr>\n",
       "<tr><td></td><td>8</td></tr>\n",
       "<tr><td></td><td>8 10</td></tr>\n",
       "<tr><td></td><td>9</td></tr>\n",
       "<tr><td></td><td>A</td></tr>\n",
       "<tr><td></td><td>B</td></tr>\n",
       "<tr><td></td><td>C</td></tr>\n",
       "<tr><td></td><td>C D</td></tr>\n",
       "<tr><td></td><td>D</td></tr>\n",
       "</TABLE>\n",
       "<hr>\n"
      ],
      "text/plain": [
       "<IPython.core.display.HTML object>"
      ]
     },
     "execution_count": 10,
     "metadata": {},
     "output_type": "execute_result"
    }
   ],
   "source": [
    "HTML(filename=DATA_FOLDER + '/titanic.html')"
   ]
  },
  {
   "cell_type": "markdown",
   "metadata": {},
   "source": [
    "For each of the following questions state clearly your assumptions and discuss your findings:\n",
    "1. Describe the *type* and the *value range* of each attribute. Indicate and transform the attributes that can be `Categorical`. \n",
    "2. Plot histograms for the *travel class*, *embarkation port*, *sex* and *age* attributes. For the latter one, use *discrete decade intervals*. \n",
    "3. Calculate the proportion of passengers by *cabin floor*. Present your results in a *pie chart*.\n",
    "4. For each *travel class*, calculate the proportion of the passengers that survived. Present your results in *pie charts*.\n",
    "5. Calculate the proportion of the passengers that survived by *travel class* and *sex*. Present your results in *a single histogram*.\n",
    "6. Create 2 equally populated *age categories* and calculate survival proportions by *age category*, *travel class* and *sex*. Present your results in a `DataFrame` with unique index."
   ]
  },
  {
   "cell_type": "code",
   "execution_count": 43,
   "metadata": {},
   "outputs": [
    {
     "data": {
      "text/plain": [
       "(1309, 14)"
      ]
     },
     "execution_count": 43,
     "metadata": {},
     "output_type": "execute_result"
    }
   ],
   "source": [
    "titanic = pd.read_excel(os.path.join(DATA_FOLDER, 'titanic.xls'), sheetname='titanic')\n",
    "titanic.shape"
   ]
  },
  {
   "cell_type": "code",
   "execution_count": 44,
   "metadata": {},
   "outputs": [
    {
     "data": {
      "text/html": [
       "<table border=\"1\" class=\"dataframe\">\n",
       "  <thead>\n",
       "    <tr style=\"text-align: right;\">\n",
       "      <th></th>\n",
       "      <th>pclass</th>\n",
       "      <th>survived</th>\n",
       "      <th>name</th>\n",
       "      <th>sex</th>\n",
       "      <th>age</th>\n",
       "      <th>sibsp</th>\n",
       "      <th>parch</th>\n",
       "      <th>ticket</th>\n",
       "      <th>fare</th>\n",
       "      <th>cabin</th>\n",
       "      <th>embarked</th>\n",
       "      <th>boat</th>\n",
       "      <th>body</th>\n",
       "      <th>home.dest</th>\n",
       "    </tr>\n",
       "  </thead>\n",
       "  <tbody>\n",
       "    <tr>\n",
       "      <th>0</th>\n",
       "      <td>1</td>\n",
       "      <td>1</td>\n",
       "      <td>Allen, Miss. Elisabeth Walton</td>\n",
       "      <td>female</td>\n",
       "      <td>29.0000</td>\n",
       "      <td>0</td>\n",
       "      <td>0</td>\n",
       "      <td>24160</td>\n",
       "      <td>211.3375</td>\n",
       "      <td>B5</td>\n",
       "      <td>S</td>\n",
       "      <td>2</td>\n",
       "      <td>NaN</td>\n",
       "      <td>St Louis, MO</td>\n",
       "    </tr>\n",
       "    <tr>\n",
       "      <th>1</th>\n",
       "      <td>1</td>\n",
       "      <td>1</td>\n",
       "      <td>Allison, Master. Hudson Trevor</td>\n",
       "      <td>male</td>\n",
       "      <td>0.9167</td>\n",
       "      <td>1</td>\n",
       "      <td>2</td>\n",
       "      <td>113781</td>\n",
       "      <td>151.5500</td>\n",
       "      <td>C22 C26</td>\n",
       "      <td>S</td>\n",
       "      <td>11</td>\n",
       "      <td>NaN</td>\n",
       "      <td>Montreal, PQ / Chesterville, ON</td>\n",
       "    </tr>\n",
       "    <tr>\n",
       "      <th>2</th>\n",
       "      <td>1</td>\n",
       "      <td>0</td>\n",
       "      <td>Allison, Miss. Helen Loraine</td>\n",
       "      <td>female</td>\n",
       "      <td>2.0000</td>\n",
       "      <td>1</td>\n",
       "      <td>2</td>\n",
       "      <td>113781</td>\n",
       "      <td>151.5500</td>\n",
       "      <td>C22 C26</td>\n",
       "      <td>S</td>\n",
       "      <td>NaN</td>\n",
       "      <td>NaN</td>\n",
       "      <td>Montreal, PQ / Chesterville, ON</td>\n",
       "    </tr>\n",
       "    <tr>\n",
       "      <th>3</th>\n",
       "      <td>1</td>\n",
       "      <td>0</td>\n",
       "      <td>Allison, Mr. Hudson Joshua Creighton</td>\n",
       "      <td>male</td>\n",
       "      <td>30.0000</td>\n",
       "      <td>1</td>\n",
       "      <td>2</td>\n",
       "      <td>113781</td>\n",
       "      <td>151.5500</td>\n",
       "      <td>C22 C26</td>\n",
       "      <td>S</td>\n",
       "      <td>NaN</td>\n",
       "      <td>135.0</td>\n",
       "      <td>Montreal, PQ / Chesterville, ON</td>\n",
       "    </tr>\n",
       "    <tr>\n",
       "      <th>4</th>\n",
       "      <td>1</td>\n",
       "      <td>0</td>\n",
       "      <td>Allison, Mrs. Hudson J C (Bessie Waldo Daniels)</td>\n",
       "      <td>female</td>\n",
       "      <td>25.0000</td>\n",
       "      <td>1</td>\n",
       "      <td>2</td>\n",
       "      <td>113781</td>\n",
       "      <td>151.5500</td>\n",
       "      <td>C22 C26</td>\n",
       "      <td>S</td>\n",
       "      <td>NaN</td>\n",
       "      <td>NaN</td>\n",
       "      <td>Montreal, PQ / Chesterville, ON</td>\n",
       "    </tr>\n",
       "  </tbody>\n",
       "</table>"
      ],
      "text/plain": [
       "<IPython.core.display.HTML object>"
      ]
     },
     "execution_count": 44,
     "metadata": {},
     "output_type": "execute_result"
    }
   ],
   "source": [
    "HTML(titanic.head().to_html())"
   ]
  },
  {
   "cell_type": "markdown",
   "metadata": {},
   "source": [
    "### 1. Describe the *type* and the *value range* of each attribute. Indicate and transform the attributes that can be `Categorical`. "
   ]
  },
  {
   "cell_type": "code",
   "execution_count": 45,
   "metadata": {},
   "outputs": [
    {
     "data": {
      "text/plain": [
       "pclass         int64\n",
       "survived       int64\n",
       "name          object\n",
       "sex           object\n",
       "age          float64\n",
       "sibsp          int64\n",
       "parch          int64\n",
       "ticket        object\n",
       "fare         float64\n",
       "cabin         object\n",
       "embarked      object\n",
       "boat          object\n",
       "body         float64\n",
       "home.dest     object\n",
       "dtype: object"
      ]
     },
     "execution_count": 45,
     "metadata": {},
     "output_type": "execute_result"
    }
   ],
   "source": [
    "titanic.dtypes"
   ]
  },
  {
   "cell_type": "code",
   "execution_count": 46,
   "metadata": {},
   "outputs": [
    {
     "name": "stdout",
     "output_type": "stream",
     "text": [
      "pclass\n",
      "   [1 2 3]\n",
      "   Missing values: 0\n",
      "\n",
      "\n",
      "survived\n",
      "   [1 0]\n",
      "   Missing values: 0\n",
      "\n",
      "\n",
      "name\n",
      "   Too many values to display, the type of this column is object\n",
      "   Missing values: 0\n",
      "\n",
      "\n",
      "sex\n",
      "   ['female' 'male']\n",
      "   Missing values: 0\n",
      "\n",
      "\n",
      "age\n",
      "   Too many values to display, the type of this column is float64\n",
      "   Missing values: 263\n",
      "\n",
      "\n",
      "sibsp\n",
      "   [0 1 2 3 4 5 8]\n",
      "   Missing values: 0\n",
      "\n",
      "\n",
      "parch\n",
      "   [0 2 1 4 3 5 6 9]\n",
      "   Missing values: 0\n",
      "\n",
      "\n",
      "ticket\n",
      "   Too many values to display, the type of this column is object\n",
      "   Missing values: 0\n",
      "\n",
      "\n",
      "fare\n",
      "   Too many values to display, the type of this column is float64\n",
      "   Missing values: 1\n",
      "\n",
      "\n",
      "cabin\n",
      "   Too many values to display, the type of this column is object\n",
      "   Missing values: 1014\n",
      "\n",
      "\n",
      "embarked\n",
      "   ['S' 'C' nan 'Q']\n",
      "   Missing values: 2\n",
      "\n",
      "\n",
      "boat\n",
      "   Too many values to display, the type of this column is object\n",
      "   Missing values: 823\n",
      "\n",
      "\n",
      "body\n",
      "   Too many values to display, the type of this column is float64\n",
      "   Missing values: 1188\n",
      "\n",
      "\n",
      "home.dest\n",
      "   Too many values to display, the type of this column is object\n",
      "   Missing values: 564\n",
      "\n",
      "\n"
     ]
    }
   ],
   "source": [
    "def describe_type_missing(df):\n",
    "    for c in list(df.columns):\n",
    "        print(c)\n",
    "        unique_values = df[c].unique()\n",
    "        if len(unique_values)>=10:\n",
    "            print('   Too many values to display, the type of this column is {}'.format(titanic[c].dtype))\n",
    "        else:\n",
    "            print('   {}'.format(unique_values))\n",
    "        print('   Missing values: {}'.format(pd.isnull(titanic[c]).sum()))\n",
    "        print('\\n')\n",
    "    \n",
    "describe_type_missing(titanic)"
   ]
  },
  {
   "cell_type": "code",
   "execution_count": 47,
   "metadata": {},
   "outputs": [
    {
     "data": {
      "text/plain": [
       "pclass       category\n",
       "survived         bool\n",
       "name           object\n",
       "sex          category\n",
       "age           float64\n",
       "sibsp           int64\n",
       "parch           int64\n",
       "ticket         object\n",
       "fare          float64\n",
       "cabin        category\n",
       "embarked     category\n",
       "boat         category\n",
       "body          float64\n",
       "home.dest      object\n",
       "dtype: object"
      ]
     },
     "execution_count": 47,
     "metadata": {},
     "output_type": "execute_result"
    }
   ],
   "source": [
    "converted_types = {'pclass': 'category', \n",
    "                   'survived': 'bool',\n",
    "                   'name': 'object',\n",
    "                   'sex': 'category',\n",
    "                   'age': 'float64',\n",
    "                   'sibsp': 'int64', \n",
    "                   'parch': 'int64',\n",
    "                   'ticket': 'object',\n",
    "                   'fare': 'float64', \n",
    "                   'cabin': 'category', \n",
    "                   'embarked': 'category', \n",
    "                   'boat': 'category',\n",
    "                   'home.dest': 'object'\n",
    "                  }\n",
    "titanic = titanic.astype(converted_types)\n",
    "titanic.dtypes"
   ]
  },
  {
   "cell_type": "markdown",
   "metadata": {},
   "source": [
    "### 2. Plot histograms for the *travel class*, *embarkation port*, *sex* and *age* attributes. For the latter one, use *discrete decade intervals*. \n",
    "bar chart ~ histogram for discrete case"
   ]
  },
  {
   "cell_type": "code",
   "execution_count": 48,
   "metadata": {
    "collapsed": true
   },
   "outputs": [],
   "source": [
    "def discrete_age_and_treat_embk(df):\n",
    "    '''aggregate age into bins and fill nans in column `embarked`'''\n",
    "    labels_age = ['0-5', '5-20', '20-30', '30-40', '40-50', '50-60', '+65']\n",
    "    bins_age = [0, 5, 20, 30, 40, 50, 60, 150]\n",
    "    \n",
    "    df['age_range'] = (pd.cut(df['age'], bins=bins_age,labels=labels_age, include_lowest=True)\n",
    "                        .cat.set_categories(labels_age + ['unknow']).fillna('unknow'))\n",
    "    df['embarked_filled'] = (df['embarked']\n",
    "                              .cat.set_categories(list(df['embarked'].cat.categories) + ['unknow'])\n",
    "                              .fillna('unknow'))\n",
    "    \n",
    "    return df\n",
    "\n",
    "titanic_to_plot = discrete_age_and_treat_embk(titanic)"
   ]
  },
  {
   "cell_type": "code",
   "execution_count": 49,
   "metadata": {},
   "outputs": [
    {
     "data": {
      "image/png": "[encoded data removed]",
      "text/plain": [
       "<matplotlib.figure.Figure at 0x114a72ef0>"
      ]
     },
     "metadata": {},
     "output_type": "display_data"
    }
   ],
   "source": [
    "def plots(df, chart_type, features_cols, kwars_chart={}, chart_cols=2):\n",
    "    '''Plot features_cols of df database using `chart_type` from seaborn'''\n",
    "    df = discrete_age_and_treat_embk(df)\n",
    "    \n",
    "    chart_rows = int((len(features_cols) - 1) / chart_cols + 1)\n",
    "    partitions = list(partition_all(chart_cols, features_cols))\n",
    "\n",
    "    fig, axs = plt.subplots(ncols=chart_cols, nrows=chart_rows)\n",
    "    fig.set_size_inches(8 * chart_cols, 6 * chart_rows)\n",
    "    \n",
    "    if chart_rows == 1:\n",
    "        for i, feature in enumerate(partitions[0]):\n",
    "            pos = axs[i]\n",
    "            chart_type(x=feature, data=df, ax=pos, **kwars_chart)\n",
    "    else:\n",
    "        for i, set_features in enumerate(partitions):\n",
    "            for j, feature in enumerate(set_features):\n",
    "                pos = axs[i][j]\n",
    "                chart_type(x=feature, data=df, ax=pos, **kwars_chart)\n",
    "                \n",
    "plots(titanic, \n",
    "      sns.countplot, \n",
    "      ['pclass', 'sex', 'embarked_filled', 'age_range'], \n",
    "      {'palette': 'colorblind'})"
   ]
  },
  {
   "cell_type": "markdown",
   "metadata": {},
   "source": [
    "### 3. Calculate the proportion of passengers by cabin floor. Present your results in a pie chart.\n",
    "It will be considered that the first letter of cabin is the floor.\n",
    "For the ones that have more than one cabin registred, they have always the same floor in common, so there no is issue regarding treating those just using the first letter. There are a lot of missing cabins, so it will be desconsired from the analysis"
   ]
  },
  {
   "cell_type": "code",
   "execution_count": 80,
   "metadata": {},
   "outputs": [
    {
     "name": "stdout",
     "output_type": "stream",
     "text": [
      "Number of missing cabins: 1014 in 1309 rows\n"
     ]
    }
   ],
   "source": [
    "missing_cabin = pd.isnull(titanic.cabin).sum()\n",
    "print('Number of missing cabins: {m} in {r} rows'.format(m=missing_cabin, r=len(titanic)))"
   ]
  },
  {
   "cell_type": "code",
   "execution_count": 82,
   "metadata": {},
   "outputs": [
    {
     "name": "stderr",
     "output_type": "stream",
     "text": [
      "/usr/local/lib/python3.6/site-packages/ipykernel_launcher.py:2: SettingWithCopyWarning: \n",
      "A value is trying to be set on a copy of a slice from a DataFrame.\n",
      "Try using .loc[row_indexer,col_indexer] = value instead\n",
      "\n",
      "See the caveats in the documentation: http://pandas.pydata.org/pandas-docs/stable/indexing.html#indexing-view-versus-copy\n",
      "  \n"
     ]
    },
    {
     "data": {
      "text/html": [
       "<div>\n",
       "<style>\n",
       "    .dataframe thead tr:only-child th {\n",
       "        text-align: right;\n",
       "    }\n",
       "\n",
       "    .dataframe thead th {\n",
       "        text-align: left;\n",
       "    }\n",
       "\n",
       "    .dataframe tbody tr th {\n",
       "        vertical-align: top;\n",
       "    }\n",
       "</style>\n",
       "<table border=\"1\" class=\"dataframe\">\n",
       "  <thead>\n",
       "    <tr style=\"text-align: right;\">\n",
       "      <th>floor</th>\n",
       "      <th>A</th>\n",
       "      <th>B</th>\n",
       "      <th>C</th>\n",
       "      <th>D</th>\n",
       "      <th>E</th>\n",
       "      <th>F</th>\n",
       "      <th>G</th>\n",
       "      <th>T</th>\n",
       "    </tr>\n",
       "  </thead>\n",
       "  <tbody>\n",
       "    <tr>\n",
       "      <th>n</th>\n",
       "      <td>22.0</td>\n",
       "      <td>65.00</td>\n",
       "      <td>94.00</td>\n",
       "      <td>46.0</td>\n",
       "      <td>41.00</td>\n",
       "      <td>21.00</td>\n",
       "      <td>5.0</td>\n",
       "      <td>1.0</td>\n",
       "    </tr>\n",
       "    <tr>\n",
       "      <th>survived</th>\n",
       "      <td>0.5</td>\n",
       "      <td>0.72</td>\n",
       "      <td>0.61</td>\n",
       "      <td>0.7</td>\n",
       "      <td>0.73</td>\n",
       "      <td>0.62</td>\n",
       "      <td>0.6</td>\n",
       "      <td>0.0</td>\n",
       "    </tr>\n",
       "  </tbody>\n",
       "</table>\n",
       "</div>"
      ],
      "text/plain": [
       "floor        A      B      C     D      E      F    G    T\n",
       "n         22.0  65.00  94.00  46.0  41.00  21.00  5.0  1.0\n",
       "survived   0.5   0.72   0.61   0.7   0.73   0.62  0.6  0.0"
      ]
     },
     "execution_count": 82,
     "metadata": {},
     "output_type": "execute_result"
    },
    {
     "data": {
      "image/png": "[encoded data removed]",
      "text/plain": [
       "<matplotlib.figure.Figure at 0x1149da588>"
      ]
     },
     "metadata": {},
     "output_type": "display_data"
    }
   ],
   "source": [
    "def plot_floor(df):\n",
    "    df['floor'] = df['cabin'].apply(lambda x: list(x)[0])\n",
    "    \n",
    "    grouped = (df[['floor', 'survived']]\n",
    "               .groupby('floor')\n",
    "               .agg(['size', 'mean'])['survived']\n",
    "               .rename(columns={'size': 'n', 'mean': 'survived'}))\n",
    "    \n",
    "    fig, axs = plt.subplots(ncols=1, nrows=1)\n",
    "    fig.set_size_inches(15, 12)\n",
    "\n",
    "    plt.pie(grouped['n'], \n",
    "            labels=list(grouped.index), \n",
    "            autopct='%.0f%%', \n",
    "            shadow=True, startangle=90,\n",
    "            labeldistance=1.2);\n",
    "    plt.title('% People in each floor', fontsize=20)\n",
    "\n",
    "    return grouped.T.apply(lambda x: round(x, 2), axis=1)\n",
    "    \n",
    "plot_floor(titanic[pd.notnull(titanic.cabin)])"
   ]
  },
  {
   "cell_type": "markdown",
   "metadata": {},
   "source": [
    "### 4. For each travel class, calculate the proportion of the passengers that survived. Present your results in pie charts."
   ]
  },
  {
   "cell_type": "code",
   "execution_count": 19,
   "metadata": {},
   "outputs": [
    {
     "name": "stdout",
     "output_type": "stream",
     "text": [
      "Propotion of each class in titanic:\n"
     ]
    },
    {
     "data": {
      "text/html": [
       "<div>\n",
       "<style>\n",
       "    .dataframe thead tr:only-child th {\n",
       "        text-align: right;\n",
       "    }\n",
       "\n",
       "    .dataframe thead th {\n",
       "        text-align: left;\n",
       "    }\n",
       "\n",
       "    .dataframe tbody tr th {\n",
       "        vertical-align: top;\n",
       "    }\n",
       "</style>\n",
       "<table border=\"1\" class=\"dataframe\">\n",
       "  <thead>\n",
       "    <tr style=\"text-align: right;\">\n",
       "      <th>pclass</th>\n",
       "      <th>1</th>\n",
       "      <th>2</th>\n",
       "      <th>3</th>\n",
       "    </tr>\n",
       "  </thead>\n",
       "  <tbody>\n",
       "    <tr>\n",
       "      <th>0</th>\n",
       "      <td>0.25</td>\n",
       "      <td>0.21</td>\n",
       "      <td>0.54</td>\n",
       "    </tr>\n",
       "  </tbody>\n",
       "</table>\n",
       "</div>"
      ],
      "text/plain": [
       "pclass     1     2     3\n",
       "0       0.25  0.21  0.54"
      ]
     },
     "execution_count": 19,
     "metadata": {},
     "output_type": "execute_result"
    },
    {
     "data": {
      "image/png": "[encoded data removed]",
      "text/plain": [
       "<matplotlib.figure.Figure at 0x11375ec88>"
      ]
     },
     "metadata": {},
     "output_type": "display_data"
    }
   ],
   "source": [
    "def plot_survived_by_class(df):\n",
    "    fig, axs = plt.subplots(ncols=3, nrows=1)\n",
    "    fig.set_size_inches(6 * 3, 5 * 1)\n",
    "    \n",
    "    grouped = df.groupby('pclass').mean()[['survived']].reset_index()\n",
    "    grouped['no_survived'] = 1 - grouped['survived']\n",
    "    colors = ['lightcoral', 'yellowgreen']\n",
    "    for i, c in enumerate(list(grouped.pclass)):\n",
    "        df_plot = grouped[grouped.pclass==c][['survived', 'no_survived']].T\n",
    "        axs[i].pie(df_plot, labels=list(df_plot.index), colors=colors, autopct='%1.1f%%', shadow=True);\n",
    "        axs[i].set_title('% Survived in Class {c}'.format(c=c), fontsize=20)\n",
    "        \n",
    "plot_survived_by_class(titanic)\n",
    "print('Propotion of each class in titanic:')\n",
    "pd.DataFrame(pd.DataFrame(titanic.groupby('pclass').size())[0].apply(lambda x: round(x / len(titanic), 2))).T"
   ]
  },
  {
   "cell_type": "markdown",
   "metadata": {},
   "source": [
    "### 5. Calculate the proportion of the passengers that survived by travel class and sex. Present your results in a single histogram."
   ]
  },
  {
   "cell_type": "code",
   "execution_count": 20,
   "metadata": {},
   "outputs": [
    {
     "data": {
      "image/png": "[encoded data removed]",
      "text/plain": [
       "<matplotlib.figure.Figure at 0x113171630>"
      ]
     },
     "metadata": {},
     "output_type": "display_data"
    }
   ],
   "source": [
    "def survived_by_class_sex(df):\n",
    "    grouped = pd.DataFrame(df.groupby(['pclass', 'sex']).mean())[['survived']].reset_index()\n",
    "    grouped['group'] = grouped.apply(lambda x: 'Sex: {} / Class: {}'.format(x['sex'], x['pclass']), axis=1)\n",
    "    fig, axs = plt.subplots(ncols=1, nrows=1)\n",
    "    fig.set_size_inches(20, 6)\n",
    "    sns.barplot(y='survived', x='group', data=grouped, palette='colorblind')\n",
    "    plt.title('Proportition of survives by Sex and Class')\n",
    "\n",
    "survived_by_class_sex(titanic)"
   ]
  },
  {
   "cell_type": "markdown",
   "metadata": {},
   "source": [
    "### 6. Create 2 equally populated age categories and calculate survival proportions by age category, travel class and sex. Present your results in a DataFrame with unique index.\n",
    "In this case, travelers with age equal nan won't be include in the analysis"
   ]
  },
  {
   "cell_type": "code",
   "execution_count": 21,
   "metadata": {},
   "outputs": [
    {
     "name": "stderr",
     "output_type": "stream",
     "text": [
      "/usr/local/lib/python3.6/site-packages/ipykernel_launcher.py:3: SettingWithCopyWarning: \n",
      "A value is trying to be set on a copy of a slice from a DataFrame.\n",
      "Try using .loc[row_indexer,col_indexer] = value instead\n",
      "\n",
      "See the caveats in the documentation: http://pandas.pydata.org/pandas-docs/stable/indexing.html#indexing-view-versus-copy\n",
      "  This is separate from the ipykernel package so we can avoid doing imports until\n"
     ]
    }
   ],
   "source": [
    "titanic_valid_age = titanic[pd.notnull(titanic.age)]\n",
    "median_age = titanic_valid_age.age.median()\n",
    "titanic_valid_age['age_category'] = titanic_valid_age.age.apply(lambda x: '< 28' if x<28 else '>= 28')"
   ]
  },
  {
   "cell_type": "code",
   "execution_count": 22,
   "metadata": {},
   "outputs": [
    {
     "data": {
      "text/html": [
       "<div>\n",
       "<style>\n",
       "    .dataframe thead tr:only-child th {\n",
       "        text-align: right;\n",
       "    }\n",
       "\n",
       "    .dataframe thead th {\n",
       "        text-align: left;\n",
       "    }\n",
       "\n",
       "    .dataframe tbody tr th {\n",
       "        vertical-align: top;\n",
       "    }\n",
       "</style>\n",
       "<table border=\"1\" class=\"dataframe\">\n",
       "  <thead>\n",
       "    <tr style=\"text-align: right;\">\n",
       "      <th></th>\n",
       "      <th>age_category</th>\n",
       "      <th>pclass</th>\n",
       "      <th>sex</th>\n",
       "      <th>survived</th>\n",
       "    </tr>\n",
       "  </thead>\n",
       "  <tbody>\n",
       "    <tr>\n",
       "      <th>0</th>\n",
       "      <td>&lt; 28</td>\n",
       "      <td>1</td>\n",
       "      <td>female</td>\n",
       "      <td>0.950</td>\n",
       "    </tr>\n",
       "    <tr>\n",
       "      <th>1</th>\n",
       "      <td>&lt; 28</td>\n",
       "      <td>1</td>\n",
       "      <td>male</td>\n",
       "      <td>0.536</td>\n",
       "    </tr>\n",
       "    <tr>\n",
       "      <th>2</th>\n",
       "      <td>&lt; 28</td>\n",
       "      <td>2</td>\n",
       "      <td>female</td>\n",
       "      <td>0.902</td>\n",
       "    </tr>\n",
       "    <tr>\n",
       "      <th>3</th>\n",
       "      <td>&lt; 28</td>\n",
       "      <td>2</td>\n",
       "      <td>male</td>\n",
       "      <td>0.235</td>\n",
       "    </tr>\n",
       "    <tr>\n",
       "      <th>4</th>\n",
       "      <td>&lt; 28</td>\n",
       "      <td>3</td>\n",
       "      <td>female</td>\n",
       "      <td>0.528</td>\n",
       "    </tr>\n",
       "    <tr>\n",
       "      <th>5</th>\n",
       "      <td>&lt; 28</td>\n",
       "      <td>3</td>\n",
       "      <td>male</td>\n",
       "      <td>0.194</td>\n",
       "    </tr>\n",
       "    <tr>\n",
       "      <th>6</th>\n",
       "      <td>&gt;= 28</td>\n",
       "      <td>1</td>\n",
       "      <td>female</td>\n",
       "      <td>0.968</td>\n",
       "    </tr>\n",
       "    <tr>\n",
       "      <th>7</th>\n",
       "      <td>&gt;= 28</td>\n",
       "      <td>1</td>\n",
       "      <td>male</td>\n",
       "      <td>0.309</td>\n",
       "    </tr>\n",
       "    <tr>\n",
       "      <th>8</th>\n",
       "      <td>&gt;= 28</td>\n",
       "      <td>2</td>\n",
       "      <td>female</td>\n",
       "      <td>0.885</td>\n",
       "    </tr>\n",
       "    <tr>\n",
       "      <th>9</th>\n",
       "      <td>&gt;= 28</td>\n",
       "      <td>2</td>\n",
       "      <td>male</td>\n",
       "      <td>0.078</td>\n",
       "    </tr>\n",
       "    <tr>\n",
       "      <th>10</th>\n",
       "      <td>&gt;= 28</td>\n",
       "      <td>3</td>\n",
       "      <td>female</td>\n",
       "      <td>0.348</td>\n",
       "    </tr>\n",
       "    <tr>\n",
       "      <th>11</th>\n",
       "      <td>&gt;= 28</td>\n",
       "      <td>3</td>\n",
       "      <td>male</td>\n",
       "      <td>0.130</td>\n",
       "    </tr>\n",
       "  </tbody>\n",
       "</table>\n",
       "</div>"
      ],
      "text/plain": [
       "   age_category pclass     sex  survived\n",
       "0          < 28      1  female     0.950\n",
       "1          < 28      1    male     0.536\n",
       "2          < 28      2  female     0.902\n",
       "3          < 28      2    male     0.235\n",
       "4          < 28      3  female     0.528\n",
       "5          < 28      3    male     0.194\n",
       "6         >= 28      1  female     0.968\n",
       "7         >= 28      1    male     0.309\n",
       "8         >= 28      2  female     0.885\n",
       "9         >= 28      2    male     0.078\n",
       "10        >= 28      3  female     0.348\n",
       "11        >= 28      3    male     0.130"
      ]
     },
     "execution_count": 22,
     "metadata": {},
     "output_type": "execute_result"
    }
   ],
   "source": [
    "pd.DataFrame(titanic_valid_age.groupby(['age_category', 'pclass', 'sex']).mean()['survived']).apply(lambda x: round(x,3)).reset_index()"
   ]
  },
  {
   "cell_type": "markdown",
   "metadata": {},
   "source": [
    "Individually we have:"
   ]
  },
  {
   "cell_type": "code",
   "execution_count": 23,
   "metadata": {},
   "outputs": [
    {
     "data": {
      "text/html": [
       "<div>\n",
       "<style>\n",
       "    .dataframe thead tr:only-child th {\n",
       "        text-align: right;\n",
       "    }\n",
       "\n",
       "    .dataframe thead th {\n",
       "        text-align: left;\n",
       "    }\n",
       "\n",
       "    .dataframe tbody tr th {\n",
       "        vertical-align: top;\n",
       "    }\n",
       "</style>\n",
       "<table border=\"1\" class=\"dataframe\">\n",
       "  <thead>\n",
       "    <tr style=\"text-align: right;\">\n",
       "      <th></th>\n",
       "      <th>age_category</th>\n",
       "      <th>survived</th>\n",
       "    </tr>\n",
       "  </thead>\n",
       "  <tbody>\n",
       "    <tr>\n",
       "      <th>0</th>\n",
       "      <td>&lt; 28</td>\n",
       "      <td>0.421</td>\n",
       "    </tr>\n",
       "    <tr>\n",
       "      <th>1</th>\n",
       "      <td>&gt;= 28</td>\n",
       "      <td>0.397</td>\n",
       "    </tr>\n",
       "  </tbody>\n",
       "</table>\n",
       "</div>"
      ],
      "text/plain": [
       "  age_category  survived\n",
       "0         < 28     0.421\n",
       "1        >= 28     0.397"
      ]
     },
     "execution_count": 23,
     "metadata": {},
     "output_type": "execute_result"
    }
   ],
   "source": [
    "pd.DataFrame(titanic_valid_age.groupby(['age_category']).mean()['survived']).apply(lambda x: round(x,3)).reset_index()"
   ]
  },
  {
   "cell_type": "code",
   "execution_count": 24,
   "metadata": {},
   "outputs": [
    {
     "data": {
      "text/html": [
       "<div>\n",
       "<style>\n",
       "    .dataframe thead tr:only-child th {\n",
       "        text-align: right;\n",
       "    }\n",
       "\n",
       "    .dataframe thead th {\n",
       "        text-align: left;\n",
       "    }\n",
       "\n",
       "    .dataframe tbody tr th {\n",
       "        vertical-align: top;\n",
       "    }\n",
       "</style>\n",
       "<table border=\"1\" class=\"dataframe\">\n",
       "  <thead>\n",
       "    <tr style=\"text-align: right;\">\n",
       "      <th></th>\n",
       "      <th>pclass</th>\n",
       "      <th>survived</th>\n",
       "    </tr>\n",
       "  </thead>\n",
       "  <tbody>\n",
       "    <tr>\n",
       "      <th>0</th>\n",
       "      <td>1</td>\n",
       "      <td>0.637</td>\n",
       "    </tr>\n",
       "    <tr>\n",
       "      <th>1</th>\n",
       "      <td>2</td>\n",
       "      <td>0.441</td>\n",
       "    </tr>\n",
       "    <tr>\n",
       "      <th>2</th>\n",
       "      <td>3</td>\n",
       "      <td>0.261</td>\n",
       "    </tr>\n",
       "  </tbody>\n",
       "</table>\n",
       "</div>"
      ],
      "text/plain": [
       "  pclass  survived\n",
       "0      1     0.637\n",
       "1      2     0.441\n",
       "2      3     0.261"
      ]
     },
     "execution_count": 24,
     "metadata": {},
     "output_type": "execute_result"
    }
   ],
   "source": [
    "pd.DataFrame(titanic_valid_age.groupby(['pclass']).mean()['survived']).apply(lambda x: round(x,3)).reset_index()"
   ]
  },
  {
   "cell_type": "code",
   "execution_count": 25,
   "metadata": {},
   "outputs": [
    {
     "data": {
      "text/html": [
       "<div>\n",
       "<style>\n",
       "    .dataframe thead tr:only-child th {\n",
       "        text-align: right;\n",
       "    }\n",
       "\n",
       "    .dataframe thead th {\n",
       "        text-align: left;\n",
       "    }\n",
       "\n",
       "    .dataframe tbody tr th {\n",
       "        vertical-align: top;\n",
       "    }\n",
       "</style>\n",
       "<table border=\"1\" class=\"dataframe\">\n",
       "  <thead>\n",
       "    <tr style=\"text-align: right;\">\n",
       "      <th></th>\n",
       "      <th>sex</th>\n",
       "      <th>survived</th>\n",
       "    </tr>\n",
       "  </thead>\n",
       "  <tbody>\n",
       "    <tr>\n",
       "      <th>0</th>\n",
       "      <td>female</td>\n",
       "      <td>0.753</td>\n",
       "    </tr>\n",
       "    <tr>\n",
       "      <th>1</th>\n",
       "      <td>male</td>\n",
       "      <td>0.205</td>\n",
       "    </tr>\n",
       "  </tbody>\n",
       "</table>\n",
       "</div>"
      ],
      "text/plain": [
       "      sex  survived\n",
       "0  female     0.753\n",
       "1    male     0.205"
      ]
     },
     "execution_count": 25,
     "metadata": {},
     "output_type": "execute_result"
    }
   ],
   "source": [
    "pd.DataFrame(titanic_valid_age.groupby(['sex']).mean()['survived']).apply(lambda x: round(x,3)).reset_index()"
   ]
  }
 ],
 "metadata": {
  "kernelspec": {
   "display_name": "Python 3",
   "language": "python",
   "name": "python3"
  },
  "language_info": {
   "codemirror_mode": {
    "name": "ipython",
    "version": 3
   },
   "file_extension": ".py",
   "mimetype": "text/x-python",
   "name": "python",
   "nbconvert_exporter": "python",
   "pygments_lexer": "ipython3",
   "version": "3.6.2"
  }
 },
 "nbformat": 4,
 "nbformat_minor": 2
}
