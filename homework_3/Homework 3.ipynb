{
 "cells": [
  {
   "cell_type": "code",
   "execution_count": 1,
   "metadata": {
    "collapsed": true
   },
   "outputs": [],
   "source": [
    "import os\n",
    "import json\n",
    "import copy\n",
    "import folium # version 0.5.0\n",
    "import pandas as pd # version 0.20.3\n",
    "import numpy as np\n",
    "import seaborn as sns # version 0.8\n",
    "from IPython.display import Image\n",
    "import imgkit # version 0.1.8\n",
    "\n",
    "MIDDLE_EU = [53.5775, 23.106111]\n",
    "MIDDLE_CH = [46.801111, 8.226667]\n",
    "\n",
    "WORKING_DIR = os.getcwd()\n",
    "TOPOJSON_EU_PATH = os.path.join(WORKING_DIR, 'topojson', 'europe.topojson.json')\n",
    "TOPOJSON_CH_PATH = os.path.join(WORKING_DIR, 'topojson', 'ch-cantons.topojson.json')\n",
    "TABLES_FOLDER = os.path.join(WORKING_DIR, 'tables')\n",
    "FIGURES_FOLDER = os.path.join(WORKING_DIR, 'figures')\n",
    "UNEMPLOYMENT_EU_PATH = os.path.join(TABLES_FOLDER, 'tsdec450.tsv') \n",
    "\n",
    "\n",
    "VALID_EU = {'Belgium': 'BE', 'Greece': 'EL', 'Lithuania': 'LT', \n",
    "            'Portugal': 'PT', 'Bulgaria': 'BG', 'Spain': 'ES', \n",
    "            'Luxembourg': 'LU','Romania': 'RO', 'Czech Republic': 'CZ',\n",
    "            'France': 'FR', 'Hungary': 'HU', 'Slovenia': 'SI',\n",
    "            'Denmark': 'DK', 'Croatia': 'HR', 'Malta': 'MT', \n",
    "            'Slovakia':'SK', 'Germany': 'DE', 'Italy': 'IT', \n",
    "            'Netherlands': 'NL', 'Finland': 'FI', 'Estonia': 'EE', \n",
    "            'Cyprus': 'CY', 'Austria': 'AT', 'Sweden': 'SE',\n",
    "            'Ireland': 'IE', 'Latvia': 'LV', 'Poland': 'PL', \n",
    "            'United Kingdom': 'UK'}\n",
    "\n",
    "folium.TopoJson;"
   ]
  },
  {
   "cell_type": "markdown",
   "metadata": {},
   "source": [
    "## 1\n",
    "Go to the [eurostat](http://ec.europa.eu/eurostat/data/database) website and try to find a dataset that includes the european unemployment rates at a recent date.\n",
    "\n",
    "   Use this data to build a [Choropleth map](https://en.wikipedia.org/wiki/Choropleth_map) which shows the unemployment rate in Europe at a country level. Think about [the colors you use](https://carto.com/academy/courses/intermediate-design/choose-colors-1/), how you decided to [split the intervals into data classes](http://gisgeography.com/choropleth-maps-data-classification/) or which interactions you could add in order to make the visualization intuitive and expressive. Compare Switzerland's unemployment rate to that of the rest of Europe."
   ]
  },
  {
   "cell_type": "markdown",
   "metadata": {},
   "source": [
    "The historic unemployment rate of EU and the definition of unemployment according `Eurostat` can be find  [here](http://ec.europa.eu/eurostat/web/products-datasets/-/tsdec450). For more details about coherence, accurary, meaning, among others, the metadata of the table can be find [here](http://ec.europa.eu/eurostat/cache/metadata/en/tsdec450_esmsip.htm).\n",
    "\n",
    "The unemployment rate for Switzerland in 2016 was extracted from [here](https://www.statista.com/statistics/263707/unemployment-rate-in-switzerland/)"
   ]
  },
  {
   "cell_type": "code",
   "execution_count": 2,
   "metadata": {
    "collapsed": true
   },
   "outputs": [],
   "source": [
    "def treat_raw_unemployment(df):\n",
    "    '''Filter valid years, filter valid countries, \n",
    "       replace missing by nans, split columns, filter unit'''\n",
    "    new_cols = map(lambda x: x.replace(' ', '').replace('\\\\', '') , list(df.columns))\n",
    "    df.columns = new_cols\n",
    "    VALID_COLS = ['age,unit,sex,geotime', '2016', '2015', '2014', '2013', '2012']\n",
    "    df = df[VALID_COLS]\n",
    "    df = df.replace(': ', np.nan)\n",
    "    str_to_cols = pd.DataFrame(df['age,unit,sex,geotime']\n",
    "                               .str.split(',').tolist(), \n",
    "                               columns='age,unit,sex,geotime'.split(','))\n",
    "    \n",
    "    df = pd.concat([df, str_to_cols], axis=1)\n",
    "    df = df[df['geotime'].apply(lambda x: x in VALID_EU.values())]\n",
    "    df = df[df['unit']=='PC_ACT']\n",
    "    \n",
    "    return df\n",
    "        \n",
    "raw_unemployment_eu = pd.read_csv(UNEMPLOYMENT_EU_PATH, sep='\\t')\n",
    "unemployment_eu = treat_raw_unemployment(raw_unemployment_eu)"
   ]
  },
  {
   "cell_type": "code",
   "execution_count": 3,
   "metadata": {
    "collapsed": true
   },
   "outputs": [],
   "source": [
    "topojson_eu = json.load(open(TOPOJSON_EU_PATH))\n",
    "topojson_ch = json.load(open(TOPOJSON_CH_PATH))"
   ]
  },
  {
   "cell_type": "code",
   "execution_count": 4,
   "metadata": {},
   "outputs": [],
   "source": [
    "def treat_and_filter_eu(topojson):\n",
    "    '''filter EU and fix some ids that are not equal the standard in the topojson'''\n",
    "    new_topojson = copy.deepcopy(topojson)\n",
    "    eu_countries = VALID_EU.values()\n",
    "    geometries =  new_topojson['objects']['europe']['geometries']\n",
    "    \n",
    "    for g in geometries:\n",
    "        if g['id']=='GB':\n",
    "            g['id'] = 'UK'\n",
    "        if g['id']=='GR':\n",
    "            g['id'] = 'EL'\n",
    "            \n",
    "    filtered_eu = list(filter(lambda x: x['id'] in eu_countries, geometries))\n",
    "    new_topojson['objects']['europe']['geometries'] = filtered_eu\n",
    "    return new_topojson\n",
    "                      \n",
    "filtered_topojson_eu = treat_and_filter_eu(topojson_eu)"
   ]
  },
  {
   "cell_type": "code",
   "execution_count": 349,
   "metadata": {
    "collapsed": true
   },
   "outputs": [],
   "source": [
    "map_eu = folium.Map(location=MIDDLE_EU, tiles='Mapbox Bright', zoom_start=4)\n",
    "\n",
    "map_eu.choropleth(geo_data=filtered_topojson_eu, data=unemployment_eu, \n",
    "                  columns=['geotime', '2016'],\n",
    "                  key_on='feature.id',\n",
    "                  topojson='objects.europe',\n",
    "                  fill_color='YlOrRd', \n",
    "                  fill_opacity=0.7, \n",
    "                  line_opacity=0.8,\n",
    "                  legend_name='Unemployment 2016 EU',)\n",
    "map_eu.save(os.path.join(FIGURES_FOLDER, 'unemployment_eu.html'))"
   ]
  },
  {
   "cell_type": "markdown",
   "metadata": {},
   "source": [
    "### EU unemployment\n",
    "Check the html file [here](figures/unemployment_eu.html)\n",
    "\n",
    "As expected Greece has the highest unemployment rate which is consistency with the news from the last year.\n",
    "Italy and Spain also have high rates and are having problems since crisis euro to revert this scenario."
   ]
  },
  {
   "cell_type": "code",
   "execution_count": 12,
   "metadata": {
    "collapsed": true
   },
   "outputs": [],
   "source": [
    "CH_UNEMPLOYMENT_2016 = 3.32\n",
    "\n",
    "unemployment_eu['compare_ch_2016'] = (unemployment_eu['2016'] - CH_UNEMPLOYMENT_2016) / CH_UNEMPLOYMENT_2016\n",
    "\n",
    "map_eu_ch = folium.Map(location=MIDDLE_EU, tiles='Mapbox Bright', zoom_start=4)\n",
    "map_eu_ch.choropleth(geo_data=filtered_topojson_eu, data=unemployment_eu, \n",
    "                     columns=['geotime', 'compare_ch_2016'],\n",
    "                     key_on='feature.id',\n",
    "                     topojson='objects.europe',\n",
    "                     fill_color='YlOrRd', \n",
    "                     fill_opacity=0.7, \n",
    "                     line_opacity=0.8,\n",
    "                     legend_name='Unemployment 2016 EU relative by Switzerland Unemployment',)\n",
    "map_eu_ch.save(os.path.join(FIGURES_FOLDER, 'unemployment_eu_compare_ch.html'))"
   ]
  },
  {
   "cell_type": "markdown",
   "metadata": {},
   "source": [
    "### EU unemployment compared with Switzerland\n",
    "Check the html file [here](figures/unemployment_eu_compare_ch.html)\n",
    "\n",
    "It is hard to compare other countries from EU with Switzerland because the definition of unemployment is slighly different and it is mesured in a different way too. Besides that, as Switzerland is a small country, it can have a better accuracy.\n",
    "\n",
    "Considering that the differences cited above are irrelevant, all countries from EU has higher an unemployment rate higher than Switzerland and the chart just rescale the raw rates. "
   ]
  },
  {
   "cell_type": "markdown",
   "metadata": {},
   "source": [
    "## 2\n",
    "\n",
    "Go to the [amstat](https://www.amstat.ch) website to find a dataset that includes the unemployment rates in Switzerland at a recent date.\n",
    "\n",
    " Use this data to build another Choropleth map, this time showing the unemployment rate at the level of swiss cantons. Again, try to make the map as expressive as possible, and comment on the trends you observe.\n",
    "\n",
    "   The Swiss Confederation defines the rates you have just plotted as the number of people looking for a job divided by the size of the active population (scaled by 100). This is surely a valid choice, but as we discussed one could argue for a different categorization.\n",
    "\n",
    "   Copy the map you have just created, but this time don't count in your statistics people who already have a job and are looking for a new one. How do your observations change ? You can repeat this with different choices of categories to see how selecting different metrics can lead to different interpretations of the same data.\n",
    "\n"
   ]
  },
  {
   "cell_type": "code",
   "execution_count": null,
   "metadata": {
    "collapsed": true
   },
   "outputs": [],
   "source": []
  }
 ],
 "metadata": {
  "kernelspec": {
   "display_name": "Python 3",
   "language": "python",
   "name": "python3"
  },
  "language_info": {
   "codemirror_mode": {
    "name": "ipython",
    "version": 3
   },
   "file_extension": ".py",
   "mimetype": "text/x-python",
   "name": "python",
   "nbconvert_exporter": "python",
   "pygments_lexer": "ipython3",
   "version": "3.6.3"
  }
 },
 "nbformat": 4,
 "nbformat_minor": 2
}
